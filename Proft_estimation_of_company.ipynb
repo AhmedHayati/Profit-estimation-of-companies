{
 "cells": [
  {
   "cell_type": "code",
   "execution_count": 30,
   "metadata": {
    "collapsed": false
   },
   "outputs": [
   ],
   "source": [
    "#import the libraries we will use in our project\n",
    "import numpy as np\n",
    "import matplotlib.pyplot as mp\n",
    "import pandas as pd\n",
    "import seaborn as sb\n",
    "%matplotlib inline"
   ]
  },
  {
   "cell_type": "code",
   "execution_count": 36,
   "metadata": {
    "collapsed": false
   },
   "outputs": [
    {
     "data": {
      "text/html": [
       "<div>\n",
       "<style scoped>\n",
       "    .dataframe tbody tr th:only-of-type {\n",
       "        vertical-align: middle;\n",
       "    }\n",
       "\n",
       "    .dataframe tbody tr th {\n",
       "        vertical-align: top;\n",
       "    }\n",
       "\n",
       "    .dataframe thead th {\n",
       "        text-align: right;\n",
       "    }\n",
       "</style>\n",
       "<table border=\"1\" class=\"dataframe\">\n",
       "  <thead>\n",
       "    <tr style=\"text-align: right;\">\n",
       "      <th></th>\n",
       "      <th>R&amp;D Spend</th>\n",
       "      <th>Administration</th>\n",
       "      <th>Marketing Spend</th>\n",
       "      <th>Profit</th>\n",
       "    </tr>\n",
       "  </thead>\n",
       "  <tbody>\n",
       "    <tr>\n",
       "      <th>0</th>\n",
       "      <td>165349.20</td>\n",
       "      <td>136897.80</td>\n",
       "      <td>471784.10</td>\n",
       "      <td>192261.83</td>\n",
       "    </tr>\n",
       "    <tr>\n",
       "      <th>1</th>\n",
       "      <td>162597.70</td>\n",
       "      <td>151377.59</td>\n",
       "      <td>443898.53</td>\n",
       "      <td>191792.06</td>\n",
       "    </tr>\n",
       "    <tr>\n",
       "      <th>2</th>\n",
       "      <td>153441.51</td>\n",
       "      <td>101145.55</td>\n",
       "      <td>407934.54</td>\n",
       "      <td>191050.39</td>\n",
       "    </tr>\n",
       "    <tr>\n",
       "      <th>3</th>\n",
       "      <td>144372.41</td>\n",
       "      <td>118671.85</td>\n",
       "      <td>383199.62</td>\n",
       "      <td>182901.99</td>\n",
       "    </tr>\n",
       "    <tr>\n",
       "      <th>4</th>\n",
       "      <td>142107.34</td>\n",
       "      <td>91391.77</td>\n",
       "      <td>366168.42</td>\n",
       "      <td>166187.94</td>\n",
       "    </tr>\n",
       "  </tbody>\n",
       "</table>\n",
       "</div>"
      ],
      "text/plain": [
       "   R&D Spend  Administration  Marketing Spend     Profit\n",
       "0  165349.20       136897.80        471784.10  192261.83\n",
       "1  162597.70       151377.59        443898.53  191792.06\n",
       "2  153441.51       101145.55        407934.54  191050.39\n",
       "3  144372.41       118671.85        383199.62  182901.99\n",
       "4  142107.34        91391.77        366168.42  166187.94"
      ]
     },
     "execution_count": 36,
     "metadata": {
     },
     "output_type": "execute_result"
    }
   ],
   "source": [
    "#import the dataset and explore it, and extract the dependant variable from Data set\n",
    "companies = pd.read_csv (\"1000_Companies.csv\")\n",
    "x = companies.iloc[:, :-1].values\n",
    "y = companies.iloc[:, :3].values\n",
    "\n",
    "companies.describe()\n",
    "companies.head()"
   ]
  },
  {
   "cell_type": "code",
   "execution_count": 0,
   "metadata": {
    "collapsed": false
   },
   "outputs": [
   ],
   "source": [
   ]
  },
  {
   "cell_type": "code",
   "execution_count": 32,
   "metadata": {
    "collapsed": false,
    "scrolled": true
   },
   "outputs": [
    {
     "data": {
      "text/plain": [
       "<Axes: >"
      ]
     },
     "execution_count": 32,
     "metadata": {
     },
     "output_type": "execute_result"
    },
    {
     "data": {
      "image/png": "[encoded data removed]",
      "text/plain": [
       "<Figure size 432x288 with 2 Axes>"
      ]
     },
     "execution_count": 32,
     "metadata": {
      "image/png": {
       "height": 327,
       "width": 424
      },
      "needs_background": "light"
     },
     "output_type": "execute_result"
    }
   ],
   "source": [
    "#Data visuliazation - buliding correlation matrix\n",
    "sb.heatmap (companies.corr())"
   ]
  },
  {
   "cell_type": "code",
   "execution_count": 38,
   "metadata": {
    "collapsed": false
   },
   "outputs": [
   ],
   "source": [
    "# spliting the data set into train and test set\n",
    "from sklearn.model_selection import train_test_split\n",
    "X_train , X_test , y_train , y_test = train_test_split (x,y, test_size = 0.2, random_state = 0)\n"
   ]
  },
  {
   "cell_type": "code",
   "execution_count": 45,
   "metadata": {
    "collapsed": false
   },
   "outputs": [
    {
     "data": {
      "text/html": [
       "<style>#sk-container-id-1 {color: black;}#sk-container-id-1 pre{padding: 0;}#sk-container-id-1 div.sk-toggleable {background-color: white;}#sk-container-id-1 label.sk-toggleable__label {cursor: pointer;display: block;width: 100%;margin-bottom: 0;padding: 0.3em;box-sizing: border-box;text-align: center;}#sk-container-id-1 label.sk-toggleable__label-arrow:before {content: \"▸\";float: left;margin-right: 0.25em;color: #696969;}#sk-container-id-1 label.sk-toggleable__label-arrow:hover:before {color: black;}#sk-container-id-1 div.sk-estimator:hover label.sk-toggleable__label-arrow:before {color: black;}#sk-container-id-1 div.sk-toggleable__content {max-height: 0;max-width: 0;overflow: hidden;text-align: left;background-color: #f0f8ff;}#sk-container-id-1 div.sk-toggleable__content pre {margin: 0.2em;color: black;border-radius: 0.25em;background-color: #f0f8ff;}#sk-container-id-1 input.sk-toggleable__control:checked~div.sk-toggleable__content {max-height: 200px;max-width: 100%;overflow: auto;}#sk-container-id-1 input.sk-toggleable__control:checked~label.sk-toggleable__label-arrow:before {content: \"▾\";}#sk-container-id-1 div.sk-estimator input.sk-toggleable__control:checked~label.sk-toggleable__label {background-color: #d4ebff;}#sk-container-id-1 div.sk-label input.sk-toggleable__control:checked~label.sk-toggleable__label {background-color: #d4ebff;}#sk-container-id-1 input.sk-hidden--visually {border: 0;clip: rect(1px 1px 1px 1px);clip: rect(1px, 1px, 1px, 1px);height: 1px;margin: -1px;overflow: hidden;padding: 0;position: absolute;width: 1px;}#sk-container-id-1 div.sk-estimator {font-family: monospace;background-color: #f0f8ff;border: 1px dotted black;border-radius: 0.25em;box-sizing: border-box;margin-bottom: 0.5em;}#sk-container-id-1 div.sk-estimator:hover {background-color: #d4ebff;}#sk-container-id-1 div.sk-parallel-item::after {content: \"\";width: 100%;border-bottom: 1px solid gray;flex-grow: 1;}#sk-container-id-1 div.sk-label:hover label.sk-toggleable__label {background-color: #d4ebff;}#sk-container-id-1 div.sk-serial::before {content: \"\";position: absolute;border-left: 1px solid gray;box-sizing: border-box;top: 0;bottom: 0;left: 50%;z-index: 0;}#sk-container-id-1 div.sk-serial {display: flex;flex-direction: column;align-items: center;background-color: white;padding-right: 0.2em;padding-left: 0.2em;position: relative;}#sk-container-id-1 div.sk-item {position: relative;z-index: 1;}#sk-container-id-1 div.sk-parallel {display: flex;align-items: stretch;justify-content: center;background-color: white;position: relative;}#sk-container-id-1 div.sk-item::before, #sk-container-id-1 div.sk-parallel-item::before {content: \"\";position: absolute;border-left: 1px solid gray;box-sizing: border-box;top: 0;bottom: 0;left: 50%;z-index: -1;}#sk-container-id-1 div.sk-parallel-item {display: flex;flex-direction: column;z-index: 1;position: relative;background-color: white;}#sk-container-id-1 div.sk-parallel-item:first-child::after {align-self: flex-end;width: 50%;}#sk-container-id-1 div.sk-parallel-item:last-child::after {align-self: flex-start;width: 50%;}#sk-container-id-1 div.sk-parallel-item:only-child::after {width: 0;}#sk-container-id-1 div.sk-dashed-wrapped {border: 1px dashed gray;margin: 0 0.4em 0.5em 0.4em;box-sizing: border-box;padding-bottom: 0.4em;background-color: white;}#sk-container-id-1 div.sk-label label {font-family: monospace;font-weight: bold;display: inline-block;line-height: 1.2em;}#sk-container-id-1 div.sk-label-container {text-align: center;}#sk-container-id-1 div.sk-container {/* jupyter's `normalize.less` sets `[hidden] { display: none; }` but bootstrap.min.css set `[hidden] { display: none !important; }` so we also need the `!important` here to be able to override the default hidden behavior on the sphinx rendered scikit-learn.org. See: https://github.com/scikit-learn/scikit-learn/issues/21755 */display: inline-block !important;position: relative;}#sk-container-id-1 div.sk-text-repr-fallback {display: none;}</style><div id=\"sk-container-id-1\" class=\"sk-top-container\"><div class=\"sk-text-repr-fallback\"><pre>LinearRegression()</pre><b>In a Jupyter environment, please rerun this cell to show the HTML representation or trust the notebook. <br />On GitHub, the HTML representation is unable to render, please try loading this page with nbviewer.org.</b></div><div class=\"sk-container\" hidden><div class=\"sk-item\"><div class=\"sk-estimator sk-toggleable\"><input class=\"sk-toggleable__control sk-hidden--visually\" id=\"sk-estimator-id-1\" type=\"checkbox\" checked><label for=\"sk-estimator-id-1\" class=\"sk-toggleable__label sk-toggleable__label-arrow\">LinearRegression</label><div class=\"sk-toggleable__content\"><pre>LinearRegression()</pre></div></div></div></div></div>"
      ],
      "text/plain": [
       "LinearRegression()"
      ]
     },
     "execution_count": 45,
     "metadata": {
     },
     "output_type": "execute_result"
    }
   ],
   "source": [
    "#fitting multiple inear regresion to the training set\n",
    "from sklearn.linear_model import LinearRegression\n",
    "regressor = LinearRegression ()\n",
    "regressor.fit (X_train, y_train)"
   ]
  },
  {
   "cell_type": "code",
   "execution_count": 46,
   "metadata": {
    "collapsed": false
   },
   "outputs": [
    {
     "data": {
      "text/plain": [
       "array([[ 46798.     , 117368.4374 , 159075.908  ],\n",
       "       [ 45209.     , 117133.7666 , 156009.9281 ],\n",
       "       [ 52746.     , 118246.8651 , 170552.5902 ],\n",
       "       [147916.     , 132302.0043 , 354183.3651 ],\n",
       "       [ 40178.     , 116390.7656 , 146302.5999 ],\n",
       "       [ 71829.     , 121065.1295 , 207373.2908 ],\n",
       "       [ 72107.6    , 127864.55   , 353183.81   ],\n",
       "       [ 48759.     , 117658.0468 , 162859.6628 ],\n",
       "       [134787.     , 130363.0537 , 328850.9238 ],\n",
       "       [  5210.     , 111226.5321 ,  78831.74841],\n",
       "       [ 20181.     , 113437.5176 , 107718.3338 ],\n",
       "       [118649.     , 127979.7204 , 297712.6087 ],\n",
       "       [ 90061.     , 123757.7143 , 242551.9846 ],\n",
       "       [ 11310.     , 112127.4079 ,  90601.71506],\n",
       "       [149026.     , 132465.9341 , 356325.1131 ],\n",
       "       [ 30744.     , 114997.5096 , 128099.6711 ],\n",
       "       [ 80987.     , 122417.6247 , 225043.6768 ],\n",
       "       [133947.     , 130238.9987 , 327230.1415 ],\n",
       "       [119943.24   , 156547.42   , 256512.92   ],\n",
       "       [155148.     , 133370.059  , 368137.5289 ],\n",
       "       [ 61136.38   , 152701.92   ,  88218.23   ],\n",
       "       [ 41996.     , 116659.2562 , 149810.4359 ],\n",
       "       [154106.     , 133216.1717 , 366126.987  ],\n",
       "       [ 40219.     , 116396.8207 , 146381.7095 ],\n",
       "       [ 64529.     , 119987.0323 , 193287.9209 ],\n",
       "       [ 60133.     , 119337.8109 , 184805.8269 ],\n",
       "       [  1000.23   , 124153.04   ,   1903.93   ],\n",
       "       [  9261.     , 111824.8023 ,  86648.16397],\n",
       "       [ 22449.     , 113772.4662 , 112094.446  ],\n",
       "       [162597.7    , 151377.59   , 443898.53   ],\n",
       "       [ 83936.     , 122853.1464 , 230733.7804 ],\n",
       "       [ 72359.     , 121143.4023 , 208395.9273 ],\n",
       "       [ 61243.     , 119501.7408 , 186947.5749 ],\n",
       "       [103957.     , 125809.9389 , 269364.3546 ],\n",
       "       [ 16708.     , 112924.6091 , 101017.1708 ],\n",
       "       [ 69018.     , 120649.9882 , 201949.4587 ],\n",
       "       [159746.     , 134049.1125 , 377009.3824 ],\n",
       "       [142977.     , 131572.5902 , 344653.5511 ],\n",
       "       [146708.     , 132123.6013 , 351852.5258 ],\n",
       "       [ 80315.     , 122318.3806 , 223747.051  ],\n",
       "       [ 55700.     , 118683.1253 , 176252.3413 ],\n",
       "       [134970.     , 130390.08   , 329204.0228 ],\n",
       "       [ 67697.     , 120454.8969 , 199400.5855 ],\n",
       "       [  1681.     , 110705.3533 ,  72022.53327],\n",
       "       [ 78966.     , 122119.1542 , 221144.1518 ],\n",
       "       [ 10488.     , 112006.0112 ,  89015.66382],\n",
       "       [127797.     , 129330.7387 , 315363.6997 ],\n",
       "       [ 34715.     , 115583.9649 , 135761.7265 ],\n",
       "       [129325.     , 129556.4007 , 318311.9798 ],\n",
       "       [ 96008.     , 124635.9944 , 254026.7374 ],\n",
       "       [158637.     , 133885.3304 , 374869.5639 ],\n",
       "       [146667.     , 132117.5463 , 351773.4162 ],\n",
       "       [ 51407.     , 118049.1155 , 167968.9861 ],\n",
       "       [ 34269.     , 115518.0976 , 134901.1683 ],\n",
       "       [153606.     , 133142.3294 , 365162.2357 ],\n",
       "       [ 41614.     , 116602.8407 , 149073.3658 ],\n",
       "       [109716.     , 126660.4543 , 280476.3608 ],\n",
       "       [141804.     , 131399.3563 , 342390.2444 ],\n",
       "       [ 41289.     , 116554.8432 , 148446.2774 ],\n",
       "       [ 65694.     , 120159.0848 , 195535.7916 ],\n",
       "       [108270.     , 126446.9024 , 277686.2998 ],\n",
       "       [  4187.     , 111075.4508 ,  76857.86711],\n",
       "       [107457.     , 126326.8348 , 276117.6141 ],\n",
       "       [105163.     , 125988.0465 , 271691.3349 ],\n",
       "       [ 56708.     , 118831.9913 , 178197.28   ],\n",
       "       [ 75555.     , 121615.4022 , 214562.618  ],\n",
       "       [ 90687.     , 123850.1648 , 243759.8533 ],\n",
       "       [120265.     , 128218.3786 , 300830.6851 ],\n",
       "       [ 11572.     , 112166.1013 ,  91107.24478],\n",
       "       [146290.     , 132061.8692 , 351045.9937 ],\n",
       "       [ 87391.     , 123363.3966 , 237400.2123 ],\n",
       "       [139181.     , 131011.9797 , 337329.1588 ],\n",
       "       [ 49559.     , 117776.1945 , 164403.265  ],\n",
       "       [124967.     , 128912.7914 , 309903.2069 ],\n",
       "       [ 40408.     , 116424.7331 , 146746.3855 ],\n",
       "       [ 33729.     , 115438.348  , 133859.2368 ],\n",
       "       [ 83511.     , 122790.3805 , 229913.7417 ],\n",
       "       [ 51795.     , 118106.4171 , 168717.6331 ],\n",
       "       [104168.     , 125841.1003 , 269771.4796 ],\n",
       "       [109510.     , 126630.0312 , 280078.8832 ],\n",
       "       [142634.     , 131521.9344 , 343991.7317 ],\n",
       "       [105406.     , 126023.9338 , 272160.204  ],\n",
       "       [ 66932.     , 120341.9182 , 197924.516  ],\n",
       "       [123537.     , 128701.6025 , 307144.018  ],\n",
       "       [106158.     , 126134.9926 , 273611.1901 ],\n",
       "       [ 71364.     , 120996.4562 , 206476.0721 ],\n",
       "       [ 23354.     , 113906.1207 , 113840.646  ],\n",
       "       [ 45698.     , 117205.9844 , 156953.455  ],\n",
       "       [105465.     , 126032.6472 , 272274.0447 ],\n",
       "       [116004.     , 127589.0947 , 292609.074  ],\n",
       "       [127002.     , 129213.3295 , 313829.745  ],\n",
       "       [ 10372.     , 111988.8798 ,  88791.8415 ],\n",
       "       [ 52176.     , 118162.6849 , 169452.7737 ],\n",
       "       [ 74459.     , 121453.5399 , 212447.883  ],\n",
       "       [  8882.     , 111768.8298 ,  85916.88243],\n",
       "       [ 68150.     , 120521.798  , 200274.6503 ],\n",
       "       [114904.     , 127426.6417 , 290486.621  ],\n",
       "       [120275.     , 128219.8555 , 300849.9801 ],\n",
       "       [138529.     , 130915.6893 , 336071.123  ],\n",
       "       [ 80546.     , 122352.4958 , 224192.7661 ],\n",
       "       [ 83918.     , 122850.4881 , 230699.0493 ],\n",
       "       [105205.     , 125994.2492 , 271772.374  ],\n",
       "       [126549.     , 129146.4284 , 312955.6803 ],\n",
       "       [ 85315.     , 123056.8034 , 233394.5647 ],\n",
       "       [ 44466.     , 117024.037  , 154576.3076 ],\n",
       "       [ 65307.     , 120101.9308 , 194789.074  ],\n",
       "       [ 54073.     , 118442.8425 , 173113.0403 ],\n",
       "       [150860.     , 132736.7876 , 359863.8212 ],\n",
       "       [154187.     , 133228.1341 , 366283.2767 ],\n",
       "       [ 70966.     , 120937.6777 , 205708.13   ],\n",
       "       [134739.     , 130355.9649 , 328758.3076 ],\n",
       "       [137713.     , 130795.1787 , 334496.6487 ],\n",
       "       [127102.     , 129228.0979 , 314022.6953 ],\n",
       "       [146657.     , 132116.0694 , 351754.1212 ],\n",
       "       [140499.     , 131206.6279 , 339872.2434 ],\n",
       "       [  3111.     , 110916.5422 ,  74781.72217],\n",
       "       [148355.     , 132366.8378 , 355030.4168 ],\n",
       "       [ 64233.     , 119943.3176 , 192716.7881 ],\n",
       "       [ 38547.     , 116149.8921 , 143155.5809 ],\n",
       "       [104830.     , 125938.8675 , 271048.8105 ],\n",
       "       [111317.     , 126896.8972 , 283565.4947 ],\n",
       "       [131599.     , 129892.2354 , 322699.6691 ],\n",
       "       [140902.     , 131266.1448 , 340649.833  ],\n",
       "       [ 83554.     , 122796.7309 , 229996.7104 ],\n",
       "       [128338.     , 129410.636  , 316407.5606 ],\n",
       "       [ 70598.     , 120883.3298 , 204998.073  ],\n",
       "       [140704.     , 131236.9032 , 340267.7914 ],\n",
       "       [ 12968.     , 112372.2689 ,  93800.83059],\n",
       "       [127494.     , 129285.9903 , 314779.0603 ],\n",
       "       [126483.     , 129136.6812 , 312828.3331 ],\n",
       "       [146341.     , 132069.4011 , 351144.3983 ],\n",
       "       [125112.     , 128934.2057 , 310182.9848 ],\n",
       "       [ 63024.     , 119764.767  , 190384.0193 ],\n",
       "       [ 42770.     , 116773.564  , 151303.871  ],\n",
       "       [107178.     , 126285.6308 , 275579.2829 ],\n",
       "       [136326.     , 130590.3403 , 331820.4285 ],\n",
       "       [ 84406.     , 122922.5582 , 231640.6467 ],\n",
       "       [120542.52   , 148718.95   , 311613.29   ],\n",
       "       [ 60311.     , 119364.0988 , 185149.2784 ],\n",
       "       [ 38859.     , 116195.9697 , 143757.5858 ],\n",
       "       [150342.     , 132660.287  , 358864.3387 ],\n",
       "       [ 60782.     , 119433.6582 , 186058.0742 ],\n",
       "       [ 25140.     , 114169.8853 , 117286.7378 ],\n",
       "       [ 48147.     , 117567.6639 , 161678.8072 ],\n",
       "       [ 14349.     , 112576.2213 ,  96465.47386],\n",
       "       [ 23281.     , 113895.3397 , 113699.7923 ],\n",
       "       [ 27996.     , 114591.6724 , 122797.3976 ],\n",
       "       [148327.     , 132362.7026 , 354976.3907 ],\n",
       "       [ 47724.     , 117505.1933 , 160862.6275 ],\n",
       "       [ 46426.07   , 157693.92   , 210797.67   ],\n",
       "       [ 51183.     , 118016.0342 , 167536.7775 ],\n",
       "       [ 61994.48   , 115641.28   ,  91131.24   ],\n",
       "       [143575.     , 131660.9056 , 345807.3938 ],\n",
       "       [ 13123.     , 112395.16   ,  94099.90352],\n",
       "       [140149.     , 131154.9383 , 339196.9174 ],\n",
       "       [136133.     , 130561.8371 , 331448.0344 ],\n",
       "       [135965.     , 130537.0261 , 331123.878  ],\n",
       "       [ 62251.     , 119650.6068 , 188892.5137 ],\n",
       "       [154595.     , 133288.3894 , 367070.5139 ],\n",
       "       [ 29076.     , 114751.1717 , 124881.2606 ],\n",
       "       [ 48519.     , 117622.6025 , 162396.5822 ],\n",
       "       [100405.     , 125285.3634 , 262510.7609 ],\n",
       "       [ 18632.     , 113208.7542 , 104729.5341 ],\n",
       "       [ 26618.     , 114388.1631 , 120138.5429 ],\n",
       "       [ 13599.     , 112465.4579 ,  95018.34682],\n",
       "       [157947.     , 133783.428  , 373538.207  ],\n",
       "       [148622.     , 132406.2696 , 355545.594  ],\n",
       "       [128157.     , 129383.9051 , 316058.3207 ],\n",
       "       [107707.     , 126363.756  , 276599.9898 ],\n",
       "       [123150.     , 128644.4486 , 306397.3005 ],\n",
       "       [ 11205.     , 112111.901  ,  90399.11728],\n",
       "       [ 48789.     , 117662.4774 , 162917.5479 ],\n",
       "       [121139.     , 128347.4549 , 302517.0705 ],\n",
       "       [139429.     , 131048.6054 , 337807.6754 ],\n",
       "       [ 27445.     , 114510.2982 , 121734.2416 ],\n",
       "       [ 78442.     , 122041.7675 , 220133.0924 ],\n",
       "       [ 36517.     , 115850.0925 , 139238.6904 ],\n",
       "       [117577.     , 127821.4025 , 295644.1818 ],\n",
       "       [ 79095.     , 122138.2055 , 221393.0577 ],\n",
       "       [ 93879.     , 124321.5739 , 249918.826  ],\n",
       "       [146580.     , 132104.6977 , 351605.5495 ],\n",
       "       [161181.72   , 270939.86   , 295442.17   ],\n",
       "       [112617.     , 127088.8871 , 286073.8482 ],\n",
       "       [118530.     , 127962.1459 , 297482.9979 ],\n",
       "       [ 43532.     , 116886.0996 , 152774.1521 ],\n",
       "       [ 24723.     , 114108.3008 , 116482.1352 ],\n",
       "       [ 24874.     , 114130.6012 , 116773.4901 ],\n",
       "       [ 22609.     , 113796.0957 , 112403.1664 ],\n",
       "       [ 83593.     , 122802.4906 , 230071.961  ],\n",
       "       [ 47480.     , 117469.1583 , 160391.8288 ],\n",
       "       [137595.     , 130777.752  , 334268.9674 ],\n",
       "       [ 88429.     , 123516.6931 , 239403.0362 ],\n",
       "       [ 21297.     , 113602.3336 , 109871.6588 ],\n",
       "       [131876.9    ,  99814.71   , 362861.36   ],\n",
       "       [ 80306.     , 122317.0515 , 223729.6855 ],\n",
       "       [135489.     , 130466.7283 , 330205.4347 ],\n",
       "       [139729.     , 131092.9108 , 338386.5263 ],\n",
       "       [113478.     , 127216.0435 , 287735.1501 ],\n",
       "       [107750.     , 126370.1064 , 276682.9584 ],\n",
       "       [ 70098.     , 120809.4875 , 204033.3216 ]])"
      ]
     },
     "execution_count": 46,
     "metadata": {
     },
     "output_type": "execute_result"
    }
   ],
   "source": [
    "# predicting the X_test result\n",
    "y_pred = regressor.predict (X_test)\n",
    "y_pred"
   ]
  },
  {
   "cell_type": "code",
   "execution_count": 50,
   "metadata": {
    "collapsed": false
   },
   "outputs": [
    {
     "name": "stdout",
     "output_type": "stream",
     "text": [
      "[[ 1.00000000e+00 -2.39028607e-16  8.76610095e-17]\n",
      " [-5.84275681e-16  1.00000000e+00 -2.21877482e-16]\n",
      " [ 9.62090848e-16 -7.77156117e-16  1.00000000e+00]]\n",
      "[1.01863407e-10 2.91038305e-11 2.91038305e-11]\n"
     ]
    }
   ],
   "source": [
    "#calculate cofficients and intercept\n",
    "print (regressor.coef_)\n",
    "print (regressor.intercept_)\n"
   ]
  },
  {
   "cell_type": "code",
   "execution_count": 53,
   "metadata": {
    "collapsed": false
   },
   "outputs": [
    {
     "data": {
      "text/plain": [
       "1.0"
      ]
     },
     "execution_count": 53,
     "metadata": {
     },
     "output_type": "execute_result"
    }
   ],
   "source": [
    "#caluclate R Square Value\n",
    "from sklearn.metrics import r2_score\n",
    "r2_score ( y_test,y_pred)"
   ]
  },
  {
   "cell_type": "code",
   "execution_count": 0,
   "metadata": {
    "collapsed": false
   },
   "outputs": [
   ],
   "source": [
   ]
  }
 ],
 "metadata": {
  "kernelspec": {
   "argv": [
    "/usr/bin/python3",
    "-m",
    "ipykernel",
    "--HistoryManager.enabled=False",
    "--matplotlib=inline",
    "-c",
    "%config InlineBackend.figure_formats = set(['retina'])\nimport matplotlib; matplotlib.rcParams['figure.figsize'] = (12, 7)",
    "-f",
    "{connection_file}"
   ],
   "display_name": "Python 3 (system-wide)",
   "env": {
   },
   "language": "python",
   "metadata": {
    "cocalc": {
     "description": "Python 3 programming language",
     "priority": 100,
     "url": "https://www.python.org/"
    }
   },
   "name": "python3",
   "resource_dir": "/ext/jupyter/kernels/python3"
  },
  "language_info": {
   "codemirror_mode": {
    "name": "ipython",
    "version": 3
   },
   "file_extension": ".py",
   "mimetype": "text/x-python",
   "name": "python",
   "nbconvert_exporter": "python",
   "pygments_lexer": "ipython3",
   "version": "3.10.12"
  }
 },
 "nbformat": 4,
 "nbformat_minor": 4
}